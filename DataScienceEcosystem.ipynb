{
 "cells": [
  {
   "cell_type": "markdown",
   "id": "afe142e6-902e-46ac-ba69-0b964387f4c0",
   "metadata": {},
   "source": [
    "# Data Science Tools and Ecosystem"
   ]
  },
  {
   "cell_type": "markdown",
   "id": "367b2d53-70c2-444c-8441-bd26db5371e8",
   "metadata": {},
   "source": [
    "## In this notebook, Data Science Tools and Ecosystem are summarized."
   ]
  },
  {
   "cell_type": "markdown",
   "id": "8d1d2dbe-8a1f-49ff-ba76-ac4c17bac22a",
   "metadata": {},
   "source": [
    "## Objectives:\n",
    "\n",
    "- List popular languages for Data Science\n",
    "- List commonly used libraries\n",
    "- List open-source development tools"
   ]
  },
  {
   "cell_type": "markdown",
   "id": "252c130d-b042-4015-ba23-70bd28ac2f6b",
   "metadata": {},
   "source": [
    "## Some of the popular languages that Data Scientists use are:\n",
    "\n",
    "1. Python\n",
    "2. R\n",
    "3. SQL\n",
    "4. Julia"
   ]
  },
  {
   "cell_type": "markdown",
   "id": "585ae472-70e4-45be-96b3-ed224da679a6",
   "metadata": {},
   "source": [
    "## Some of the commonly used libraries used by Data Scientists include:\n",
    "\n",
    "1. Pandas\n",
    "2. NumPy\n",
    "3. Matplotlib\n",
    "4. Scikit-learn"
   ]
  },
  {
   "cell_type": "markdown",
   "id": "1294ee2a-046f-4b7d-b3bf-b652673243dd",
   "metadata": {},
   "source": [
    "## Here are some open-source development environment tools used by Data Scientists:\n",
    "\n",
    "| Data Science Tools |\n",
    "|--------------------|\n",
    "| Jupyter Notebook   |\n",
    "| Apache Zeppelin    |\n",
    "| RStudio            |"
   ]
  },
  {
   "cell_type": "markdown",
   "id": "8c82083e-b210-44bb-9824-8a2e2b7e6b8e",
   "metadata": {},
   "source": [
    "### Below are a few examples of evaluating arithmetic expressions in Python."
   ]
  },
  {
   "cell_type": "markdown",
   "id": "89e41118-1df9-4a67-9646-bfa38fa5f6f7",
   "metadata": {},
   "source": [
    "## This a simple arithmetic expression to mutiply then add integers."
   ]
  },
  {
   "cell_type": "code",
   "execution_count": 28,
   "id": "e10741cc-609f-4bb0-b710-3df20fb76dac",
   "metadata": {},
   "outputs": [
    {
     "name": "stdout",
     "output_type": "stream",
     "text": [
      "result = 17 super\n"
     ]
    }
   ],
   "source": [
    "x = (3 * 4) + 5\n",
    "if x == 17:\n",
    "   print (\"result =\",x, \"super\")\n",
    "else:\n",
    "   print (\"error\")"
   ]
  },
  {
   "cell_type": "markdown",
   "id": "020bcaa3-b5c3-4917-90ad-2f8b712b62f3",
   "metadata": {},
   "source": [
    "## This will convert 200 minutes to hours by diving by 60"
   ]
  },
  {
   "cell_type": "code",
   "execution_count": 34,
   "id": "bb81af90-bf02-43c4-a3c4-b8a29adf2c2e",
   "metadata": {},
   "outputs": [
    {
     "name": "stdout",
     "output_type": "stream",
     "text": [
      "3 hours 20 minutes\n"
     ]
    }
   ],
   "source": [
    "a = 200//60\n",
    "b = 200%60\n",
    "print (a,\"hours\",b,\"minutes\")"
   ]
  },
  {
   "cell_type": "markdown",
   "id": "34e7e60b-6cab-42e1-852e-9d9768e77c44",
   "metadata": {},
   "source": [
    "## Author\n",
    "Olena Bevz"
   ]
  },
  {
   "cell_type": "code",
   "execution_count": null,
   "id": "1b1b86a2-a03a-4e69-940c-0a59ba6a4f1b",
   "metadata": {},
   "outputs": [],
   "source": []
  }
 ],
 "metadata": {
  "kernelspec": {
   "display_name": "Python 3 (ipykernel)",
   "language": "python",
   "name": "python3"
  },
  "language_info": {
   "codemirror_mode": {
    "name": "ipython",
    "version": 3
   },
   "file_extension": ".py",
   "mimetype": "text/x-python",
   "name": "python",
   "nbconvert_exporter": "python",
   "pygments_lexer": "ipython3",
   "version": "3.12.4"
  }
 },
 "nbformat": 4,
 "nbformat_minor": 5
}
